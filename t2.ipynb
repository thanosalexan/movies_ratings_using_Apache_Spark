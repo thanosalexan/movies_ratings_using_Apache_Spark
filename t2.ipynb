{
 "cells": [
  {
   "cell_type": "markdown",
   "id": "7baec7a7",
   "metadata": {},
   "source": [
    "# Course         : Big Data Systems and Architectures \n",
    "\n",
    "# Assignment : Spark & Airflow \n",
    "\n",
    "# Task1\n"
   ]
  },
  {
   "cell_type": "markdown",
   "id": "f119d46e",
   "metadata": {},
   "source": [
    "Student Name:Athanasios Alexandris\n",
    "\n",
    "Student id : p2822202\n",
    "\n",
    "Msc : Business Analytics PT, AUEB"
   ]
  },
  {
   "cell_type": "markdown",
   "id": "3fc21ae0",
   "metadata": {},
   "source": [
    "As first steps in Task1, we created a SparkSession using the SparkSession.builder API with application name 'task1'. The getOrCreate() method is called to either get an existing SparkSession with the same application name or create a new one if it doesn't exist. So we created a new one."
   ]
  },
  {
   "cell_type": "code",
   "execution_count": 1,
   "id": "b714ad42",
   "metadata": {},
   "outputs": [],
   "source": [
    "from pyspark.sql import SparkSession\n"
   ]
  },
  {
   "cell_type": "code",
   "execution_count": 2,
   "id": "2c5d1dde",
   "metadata": {},
   "outputs": [
    {
     "name": "stdout",
     "output_type": "stream",
     "text": [
      "23/04/14 18:52:15 WARN Utils: Your hostname, MacBook-Pro-4.local resolves to a loopback address: 127.0.0.1; using 192.168.23.32 instead (on interface en0)\n",
      "23/04/14 18:52:15 WARN Utils: Set SPARK_LOCAL_IP if you need to bind to another address\n"
     ]
    },
    {
     "name": "stderr",
     "output_type": "stream",
     "text": [
      "Setting default log level to \"WARN\".\n",
      "To adjust logging level use sc.setLogLevel(newLevel). For SparkR, use setLogLevel(newLevel).\n"
     ]
    },
    {
     "name": "stdout",
     "output_type": "stream",
     "text": [
      "23/04/14 18:52:16 WARN NativeCodeLoader: Unable to load native-hadoop library for your platform... using builtin-java classes where applicable\n",
      "23/04/14 18:52:17 WARN Utils: Service 'SparkUI' could not bind on port 4040. Attempting port 4041.\n",
      "23/04/14 18:52:17 WARN Utils: Service 'SparkUI' could not bind on port 4041. Attempting port 4042.\n"
     ]
    }
   ],
   "source": [
    "spark = SparkSession.builder.appName('task1').getOrCreate()"
   ]
  },
  {
   "cell_type": "markdown",
   "id": "1e25e3cd",
   "metadata": {},
   "source": [
    "Next we used the spark.read.json() method to read the JSON file that contains our dataset and load it into a DataFrame in Spark. Also we displayed the first 20 rows of the dataset"
   ]
  },
  {
   "cell_type": "code",
   "execution_count": 3,
   "id": "b191b140",
   "metadata": {},
   "outputs": [
    {
     "name": "stderr",
     "output_type": "stream",
     "text": [
      "                                                                                \r"
     ]
    }
   ],
   "source": [
    "df = spark.read.json('movie.json', multiLine=True)"
   ]
  },
  {
   "cell_type": "code",
   "execution_count": 4,
   "id": "335f7fb7",
   "metadata": {},
   "outputs": [
    {
     "name": "stderr",
     "output_type": "stream",
     "text": [
      "\r",
      "[Stage 1:>                                                          (0 + 1) / 1]\r"
     ]
    },
    {
     "name": "stdout",
     "output_type": "stream",
     "text": [
      "+--------------------+--------------------+--------------------+--------------------+--------------------+--------------------+--------------------+--------------------+---------+------+-------+--------------------+--------------------+------------+---------+----+\n",
      "|              actors|           countries|         description|           directors|               genre|            imdb_url|             img_url|           languages|metascore|rating|runtime|             tagline|               title|users_rating|    votes|year|\n",
      "+--------------------+--------------------+--------------------+--------------------+--------------------+--------------------+--------------------+--------------------+---------+------+-------+--------------------+--------------------+------------+---------+----+\n",
      "|[Timothée Chalame...|               [USA]|A young couple ar...|       [Woody Allen]|   [Comedy, Romance]|https://www.imdb....|https://m.media-a...|           [English]|       44| PG-13| 92 min|                null|A Rainy Day in Ne...|         6.6|   21,903|2019|\n",
      "|[Emilia Clarke, H...|               [USA]|Creepy, terrifyin...|[Michael Escobedo...|  [Horror, Thriller]|https://www.imdb....|https://m.media-a...|           [English]|     null|    18| 91 min|When it comes to ...|       Murder Manual|         2.4|      192|2020|\n",
      "|[Matthew Broderic...|               [USA]|A high school wis...|       [John Hughes]|            [Comedy]|https://www.imdb....|https://m.media-a...|   [English, German]|       61| PG-13|103 min|Because life is t...|Ferris Bueller's ...|         7.8|  308,847|1986|\n",
      "|[Robert De Niro, ...|               [USA]|A convicted rapis...|   [Martin Scorsese]|   [Crime, Thriller]|https://www.imdb....|https://m.media-a...|           [English]|       73|     R|128 min|There is nothing ...|           Cape Fear|         7.3|  165,628|1991|\n",
      "|[Lindsay Lohan, R...|       [USA, Canada]|Cady Heron is a h...|       [Mark Waters]|            [Comedy]|https://www.imdb....|https://m.media-a...|[English, German,...|       66| PG-13| 97 min|Survival of the R...|          Mean Girls|         7.0|  320,492|2004|\n",
      "|[Sophia Lillis, S...|[Canada, Ireland,...|A long time ago i...|        [Oz Perkins]|[Fantasy, Horror,...|https://www.imdb....|https://m.media-a...|           [English]|       64| PG-13| 87 min|  Follow the crumbs.|     Gretel & Hansel|         5.3|   15,051|2020|\n",
      "|[Chris Pratt, Bry...|               [USA]|When the island's...|       [J.A. Bayona]|[Action, Adventur...|https://www.imdb....|https://m.media-a...|  [English, Russian]|       51| PG-13|128 min|Off the Island. I...|Jurassic World: F...|         6.2|  250,190|2018|\n",
      "|[Robert Downey Jr...|               [USA]|Earth's mightiest...|       [Joss Whedon]|[Action, Adventur...|https://www.imdb....|https://m.media-a...|[English, Russian...|       69| PG-13|143 min|  Avengers Assemble!|        The Avengers|         8.0|1,233,746|2012|\n",
      "|[Matt Damon, Ben ...|               [USA]|Will Hunting, a j...|      [Gus Van Sant]|    [Drama, Romance]|https://www.imdb....|https://m.media-a...|           [English]|       70|     R|126 min|Wildly charismati...|   Good Will Hunting|         8.3|  826,970|1997|\n",
      "|[Keir Dullea, Gar...|           [UK, USA]|After discovering...|   [Stanley Kubrick]| [Adventure, Sci-Fi]|https://www.imdb....|https://m.media-a...|  [English, Russian]|       84|     G|149 min|50 Years Ago One ...|2001: A Space Ody...|         8.3|  580,491|1968|\n",
      "|[Al Pacino, Steve...|               [USA]|In 1980 Miami, a ...|    [Brian De Palma]|      [Crime, Drama]|https://www.imdb....|https://m.media-a...|  [English, Spanish]|       65|     R|170 min|The world is your...|            Scarface|         8.3|  712,283|1983|\n",
      "|[Jason London, Jo...|               [USA]|The adventures of...| [Richard Linklater]|            [Comedy]|https://www.imdb....|https://m.media-a...|           [English]|       78|     R|102 min|         Weed rules.|  Dazed and Confused|         7.6|  158,876|1993|\n",
      "|[John Ralston, Th...|[Canada, Germany,...|A young genius ac...|[Anthony Scott Bu...|[Drama, Horror, M...|https://www.imdb....|https://m.media-a...|           [English]|       45| PG-13| 90 min|Houses Are As Hau...|           Our House|         5.3|    5,563|2018|\n",
      "|[Matthew Modine, ...|           [UK, USA]|A pragmatic U.S. ...|   [Stanley Kubrick]|        [Drama, War]|https://www.imdb....|https://m.media-a...|[English, Vietnam...|       76|     R|116 min|Acclaimed by crit...|   Full Metal Jacket|         8.3|  650,539|1987|\n",
      "|[Daniel Radcliffe...|  [UK, USA, Germany]|An ancient prophe...|    [Chris Columbus]|[Adventure, Famil...|https://www.imdb....|https://m.media-a...|           [English]|       63|    PG|161 min|\"Dobby has come t...|Harry Potter and ...|         7.4|  529,173|2002|\n",
      "|[Clint Eastwood, ...|      [Germany, USA]|Disgruntled Korea...|    [Clint Eastwood]|             [Drama]|https://www.imdb....|https://m.media-a...|    [English, Hmong]|       72|     R|116 min|                null|         Gran Torino|         8.1|  701,410|2008|\n",
      "|[Frances McDorman...|           [UK, USA]|A mother personal...|   [Martin McDonagh]|[Comedy, Crime, D...|https://www.imdb....|https://m.media-a...|           [English]|       88|     R|115 min|                null|Three Billboards ...|         8.2|  401,685|2017|\n",
      "|[Paul Sanchez, La...|               [USA]|A FedEx executive...|   [Robert Zemeckis]|[Adventure, Drama...|https://www.imdb....|https://m.media-a...|  [English, Russian]|       73| PG-13|143 min|At the edge of th...|           Cast Away|         7.8|  504,512|2000|\n",
      "|[Ewan McGregor, N...|               [USA]|Three years into ...|      [George Lucas]|[Action, Adventur...|https://www.imdb....|https://m.media-a...|           [English]|       68| PG-13|140 min|The saga is compl...|Star Wars: Episod...|         7.5|  688,367|2005|\n",
      "|[Sandra Bullock, ...|               [USA]|Five years after ...|      [Susanne Bier]|[Drama, Horror, S...|https://www.imdb....|https://m.media-a...|           [English]|       51|     R|124 min|Never Lose Sight ...|            Bird Box|         6.6|  260,466|2018|\n",
      "+--------------------+--------------------+--------------------+--------------------+--------------------+--------------------+--------------------+--------------------+---------+------+-------+--------------------+--------------------+------------+---------+----+\n",
      "only showing top 20 rows\n",
      "\n"
     ]
    },
    {
     "name": "stderr",
     "output_type": "stream",
     "text": [
      "\r",
      "                                                                                \r"
     ]
    }
   ],
   "source": [
    "df.show(20)"
   ]
  },
  {
   "cell_type": "markdown",
   "id": "7d52fab2",
   "metadata": {},
   "source": [
    "We used the count() method in order to count how many rows our dataset has, and we used print() to display the outcome."
   ]
  },
  {
   "cell_type": "code",
   "execution_count": 5,
   "id": "fc0dbea0",
   "metadata": {},
   "outputs": [
    {
     "name": "stderr",
     "output_type": "stream",
     "text": [
      "\r",
      "[Stage 2:>                                                          (0 + 1) / 1]\r"
     ]
    },
    {
     "name": "stdout",
     "output_type": "stream",
     "text": [
      "62058\n"
     ]
    },
    {
     "name": "stderr",
     "output_type": "stream",
     "text": [
      "\r",
      "                                                                                \r"
     ]
    }
   ],
   "source": [
    "print(df.count())"
   ]
  },
  {
   "cell_type": "markdown",
   "id": "838650cd",
   "metadata": {},
   "source": [
    "In order to count the number of comedies in the database, we had to use the filter() method to isolate the movies that contain the \"Comedy\" in the \"genre\" column. A movie can have more than one genres, so the column \"genre\" is an array. In the filter() method we embeded the array_contains() method, to find the movies that contain a Comedy genre. Finally we used count(), and then we displayed the outcome"
   ]
  },
  {
   "cell_type": "code",
   "execution_count": 6,
   "id": "f5451509",
   "metadata": {},
   "outputs": [],
   "source": [
    "from pyspark.sql.functions import array_contains\n",
    "\n",
    "\n"
   ]
  },
  {
   "cell_type": "code",
   "execution_count": null,
   "id": "a3842f8b",
   "metadata": {},
   "outputs": [],
   "source": []
  },
  {
   "cell_type": "code",
   "execution_count": 11,
   "id": "78ea6262",
   "metadata": {},
   "outputs": [
    {
     "name": "stdout",
     "output_type": "stream",
     "text": [
      "19312\n"
     ]
    }
   ],
   "source": [
    "\n",
    "comedy_count = df.filter(array_contains(df.genre, \"Comedy\")).count()\n",
    "print(comedy_count)"
   ]
  },
  {
   "cell_type": "markdown",
   "id": "f490afd9",
   "metadata": {},
   "source": [
    "We used the select() method to specify the columns that we want to include only \"users_rating\" column. The summary () method computes summary statistics for numeric columns in a DataFrame. It returns a new DataFrame with the summary statistics for the selected column. By default, it includes statistics such as count, mean, standard deviation, minimum, and maximum. Finally we used show() to display the outcome. \n"
   ]
  },
  {
   "cell_type": "code",
   "execution_count": 12,
   "id": "f844dcb2",
   "metadata": {},
   "outputs": [
    {
     "name": "stderr",
     "output_type": "stream",
     "text": [
      "\r",
      "[Stage 20:>                                                         (0 + 1) / 1]\r"
     ]
    },
    {
     "name": "stdout",
     "output_type": "stream",
     "text": [
      "+-------+------------------+\n",
      "|summary|      users_rating|\n",
      "+-------+------------------+\n",
      "|  count|             62056|\n",
      "|   mean|  5.81410500193379|\n",
      "| stddev|1.3521864101722174|\n",
      "|    min|               1.0|\n",
      "|    25%|               5.0|\n",
      "|    50%|               6.0|\n",
      "|    75%|               6.7|\n",
      "|    max|               9.9|\n",
      "+-------+------------------+\n",
      "\n"
     ]
    },
    {
     "name": "stderr",
     "output_type": "stream",
     "text": [
      "\r",
      "                                                                                \r"
     ]
    }
   ],
   "source": [
    "users_rating_summary = df.select(\"users_rating\").summary().show()\n"
   ]
  },
  {
   "cell_type": "markdown",
   "id": "7f6886e3",
   "metadata": {},
   "source": [
    "Next, we used the groupBy() and the count() methods to group the data in the DataFrame by 'rating' column and calculate the count of each group. Finally we used show() to display the outcome."
   ]
  },
  {
   "cell_type": "code",
   "execution_count": 13,
   "id": "ca02f32f",
   "metadata": {},
   "outputs": [
    {
     "name": "stdout",
     "output_type": "stream",
     "text": [
      "+---------+-----+\n",
      "|   rating|count|\n",
      "+---------+-----+\n",
      "|Not Rated| 8080|\n",
      "|       UA|    7|\n",
      "|  Unrated| 1295|\n",
      "|     TV-Y|   16|\n",
      "| Approved| 6419|\n",
      "|   Passed| 4488|\n",
      "|     M/PG|   27|\n",
      "|     null|20667|\n",
      "|        E|    2|\n",
      "|       PG| 3286|\n",
      "|    TV-MA|  639|\n",
      "|     Open|    4|\n",
      "|       18|    1|\n",
      "|        M|   41|\n",
      "|        U|    4|\n",
      "|    TV-PG|  268|\n",
      "|      All|    1|\n",
      "|        C|    3|\n",
      "|    NC-17|   22|\n",
      "|        A|    6|\n",
      "+---------+-----+\n",
      "only showing top 20 rows\n",
      "\n"
     ]
    }
   ],
   "source": [
    "distinct_ratings = df.groupBy('rating').count().show()\n"
   ]
  },
  {
   "cell_type": "code",
   "execution_count": null,
   "id": "33937f73",
   "metadata": {},
   "outputs": [],
   "source": []
  }
 ],
 "metadata": {
  "kernelspec": {
   "display_name": "Python 3 (ipykernel)",
   "language": "python",
   "name": "python3"
  },
  "language_info": {
   "codemirror_mode": {
    "name": "ipython",
    "version": 3
   },
   "file_extension": ".py",
   "mimetype": "text/x-python",
   "name": "python",
   "nbconvert_exporter": "python",
   "pygments_lexer": "ipython3",
   "version": "3.9.7"
  }
 },
 "nbformat": 4,
 "nbformat_minor": 5
}
